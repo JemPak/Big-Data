{
  "cells": [
    {
      "attachments": {},
      "cell_type": "markdown",
      "metadata": {
        "id": "Gfr2FALPwBdQ"
      },
      "source": [
        "#### Curso: Herramientas de Bases de Datos\n",
        "#### Estudiante: Santiago Castro Moncada\n",
        "\n",
        "# Indice:\n",
        "\n",
        "1. Diseño de la base de datos,\n",
        "   \n",
        "   1.2 Diseño conceptual\n",
        "\n",
        "   1.2 Diseño lógico\n",
        "\n",
        "   1.3 Diseño fisíco \n",
        "2. Inserción de los datos a la base de datos\n",
        "3. Consultas a base de datos\n",
        "\n",
        "    3.1 Consultas simples/básicas\n",
        "\n",
        "    3.2 Consultas multitabla (con JOIN)\n",
        "\n",
        "    3.3 Consultas con función de agregación (operaciones sobre conjuntos\n",
        "de filas) \n",
        "\n",
        "    3.4 Subconsultas\n",
        "\n",
        "4. Actualizaciones a base de datos\n",
        "5. Borrados a base de datos y\n",
        "6. Conclusiones.\n",
        "\n",
        "\n"
      ]
    },
    {
      "attachments": {},
      "cell_type": "markdown",
      "metadata": {
        "id": "cIefW8F69Hgr"
      },
      "source": [
        "## 1.1 Diseño conceptual\n",
        "\n",
        "<img src=\"imagen.png\">\n",
        "\n",
        "En el archivo HTML adjunto se detalla los atributos de cada tabla\n",
        "\n",
        "**file: beisbol.html**"
      ]
    },
    {
      "attachments": {},
      "cell_type": "markdown",
      "metadata": {
        "id": "pymNkUpw9W95"
      },
      "source": [
        "## 1.2 Diseño lógico\n",
        "\n",
        "**Tabla 1:**\n",
        "\n",
        "Jugador(jugadorID, nombre, apellidos, nombreDeportivo, anyoNacimiento, mesNacimiento, diaNacimiento, paisNacimiento, estadoNacimiento,ciudadNacimiento, anyoFallecimiento, mesFallecimiento, diaFallecimiento,paisFallecimiento, estadoFallecimiento, ciudadFallecimiento, peso, altura, batear, lanzar, fechaDebut, fechaRetirada)\n",
        "\n",
        "PK: jugadorID\n",
        "\n",
        "\n",
        "**Tabla 2:**\n",
        "\n",
        "Equipo(anyo, liga, equipoId, equipoNombre, estadio, publicoEstadio, equipoDivision, clasificacionFinal, G, Ghome, W, L, DivWin, WCWin, LgWin, WSWin, R, AB, H, B2, B3, HR, BB, SO, SB, CS, HBP, SF, RA, ER, ERA, CG, SHO, SV, IPouts, HA, HRA, BBA, SOA, E, DP, FP, BPF, PPF)\n",
        "\n",
        "PK: equipoId\n",
        "\n",
        "\n",
        "**Tabla 3:**\n",
        "\n",
        "Estadio(estadioID, nombre, alias, ciudad, estado, pais)\n",
        "\n",
        "PK: estadioID\n",
        "\n",
        "**Tabla 4:**\n",
        "\n",
        "Universidad(universidadID, nombre, ciudad, estado, pais)\n",
        "\n",
        "PK: universidadID\n",
        "\n",
        "\n",
        "**Tabla 5:**\n",
        "\n",
        "BatearEstadistica(id, jugador, anyo, equipo, liga, G, AB, R, H, B2, B3, HR, RBI, SB, CS, BB, SO, IBB, HBP, SH, SF,GIDP)\n",
        "\n",
        "PK: id\n",
        "\n",
        "FK1: \n",
        "BatearEstadistica.jugador -> Jugador.jugadorID\n",
        "\n",
        "FK2: \n",
        "BatearEstadistica.equipo -> Equipo.equipoId\n",
        "\n",
        "**Tabla 6:**\n",
        "\n",
        "LanzarEstadistica(id,jugador, anyo, equipo, liga, W, L, G, GS, CG, SHO, SV, IPouts, H, ER, HR, BB, SO, BAOpp, ERA, IBB, WP, HBP, BK, BFP, GF, R, SH, SF, GIDP )\n",
        "\n",
        "PK: id\n",
        "\n",
        "FK1: \n",
        "LanzarEstadistica.jugador -> Jugador.jugadorID\n",
        "\n",
        "FK2: \n",
        "LanzarEstadistica.equipo -> Equipo.equipoId\n",
        "\n",
        "**Tabla 7:**\n",
        "\n",
        "CampoEstadistica(id,jugador, anyo, equipo, liga, POS, G, GS, InnOuts, PO, A, E, DP, PB, WP, SB, CS, ZR)\n",
        "\n",
        "PK: id\n",
        "\n",
        "FK1: \n",
        "CampoEstadistica.jugador -> Jugador.jugadorID\n",
        "\n",
        "FK2: \n",
        "CampoEstadistica.equipo -> Equipo.equipoId\n",
        "\n",
        "**Tabla 8:**\n",
        "\n",
        "Sueldo(id, anyo, equipo, liga, jugador, sueldo)\n",
        "\n",
        "PK: id\n",
        "\n",
        "FK1: \n",
        "Sueldo.jugador -> Jugador.jugadorID\n",
        "\n",
        "FK2: \n",
        "Sueldo.equipo -> Equipo.equipoId\n",
        "\n",
        "**Tabla 9:**\n",
        "\n",
        "JugadorPosicionCampo(id, jugador, anyo, Glf, Gcf, Grf)\n",
        "\n",
        "PK: id\n",
        "\n",
        "FK1: \n",
        "JugadorPosicionCampo.jugador -> Jugador.jugadorID\n",
        "\n",
        "**Tabla 10:**\n",
        "\n",
        "JugadorPremio(id, jugador, premio, anyo, liga)\n",
        "\n",
        "PK: id\n",
        "\n",
        "FK1: \n",
        "JugadorPremio.jugador -> Jugador.jugadorID\n",
        "\n",
        "**Tabla 11:**\n",
        "\n",
        "\n",
        "PremioVotacion(id, premio, anyo, liga, jugador, puntosGanados, puntosPremio, votosPrimerPuesto)\n",
        "\n",
        "PK: id\n",
        "\n",
        "FK1: \n",
        "PremioVotacion.jugador -> Jugador.jugadorID\n",
        "\n",
        "**Tabla 12:**\n",
        "\n",
        "JugadorPosicionDetalle(id, anyo, equipo, liga, jugador, G_all, GS, G_batting, G_defense, G_p, G_c, G_1b, G_2b, G_3b, G_ss, G_lf, G_cf, G_rf, G_of, G_dh, G_ph, G_pr)\n",
        "\n",
        "PK: id\n",
        "\n",
        "FK1: \n",
        "JugadorPosicionDetalle.jugador -> Jugador.jugadorID\n",
        "\n",
        "FK2: \n",
        "JugadorPosicionDetalle.equipo -> Equipo.equipoId\n",
        "\n",
        "**Tabla 13:**\n",
        "\n",
        "JugadorUniversidad(id, jugador, universidad, anyo)\n",
        "\n",
        "PK: id\n",
        "\n",
        "FK1: \n",
        "JugadorUniversidad.jugador -> Jugador.jugadorID\n",
        "\n",
        "FK2: \n",
        "JugadorUniversidad.universidad -> Universidad.universidadID\n",
        "\n",
        "**Tabla 14:**\n",
        "\n",
        "EstadioPartidos(id, anyo, liga, equipo, estadio,  primerPartido, ultimoPartido, partidosJugados, publico)\n",
        "\n",
        "PK: id\n",
        "\n",
        "FK1: \n",
        "EstadioPartidos.equipo -> Equipo.EquipoID\n",
        "\n",
        "FK2: \n",
        "EstadioPartidos.estadio -> Estadio.estadioID"
      ]
    },
    {
      "attachments": {},
      "cell_type": "markdown",
      "metadata": {},
      "source": [
        "## 1.3 Diseño Fisico\n",
        "#### COMANDO PARA EJECUTAR LA BD EN DOCKER\n",
        "\n",
        "`docker run --name postgresql -e POSTGRES_USER=postgres -e POSTGRES_PASSWORD=postgres -p 5432:5432 -v /data:/var/lib/postgresql/data -d postgres`"
      ]
    },
    {
      "cell_type": "code",
      "execution_count": 25,
      "metadata": {
        "id": "F7b6ssaoQ-fg"
      },
      "outputs": [],
      "source": [
        "import psycopg2\n",
        "\n",
        "DATABASE=\"beisbol\"\n",
        "USER=\"postgres\"\n",
        "PASSWORD=\"postgres\"\n",
        "conexion1 = psycopg2.connect(\n",
        "    host='localhost',\n",
        "    database=DATABASE,\n",
        "    user=USER,\n",
        "    password=PASSWORD,\n",
        "    port='5432'\n",
        ")\n",
        "cursor=conexion1.cursor()\n",
        "conexion1.autocommit=True"
      ]
    },
    {
      "cell_type": "code",
      "execution_count": 2,
      "metadata": {
        "id": "qppCYySKN7vp"
      },
      "outputs": [],
      "source": [
        "# CREACIÓN DE TABLAS\n",
        "jugador = \"\"\"\n",
        " CREATE TABLE IF NOT EXISTS jugador(\n",
        "    jugadorID VARCHAR(30) PRIMARY KEY,\n",
        "    nombre VARCHAR(25),\n",
        "    apellidos VARCHAR(25),\n",
        "    nombreDeportivo VARCHAR(50),\n",
        "    anyoNacimiento SMALLINT,\n",
        "    mesNacimiento SMALLINT,\n",
        "    diaNacimiento SMALLINT,\n",
        "    paisNacimiento VARCHAR(40),\n",
        "    estadoNacimiento VARCHAR(50),\n",
        "    ciudadNacimiento VARCHAR(40),\n",
        "    anyoFallecimiento SMALLINT,\n",
        "    mesFallecimiento SMALLINT,\n",
        "    diaFallecimiento SMALLINT,\n",
        "    paisFallecimiento VARCHAR(40),\n",
        "    estadoFallecimiento VARCHAR(50),\n",
        "    ciudadFallecimiento VARCHAR(40),\n",
        "    peso SMALLINT,\n",
        "    altura SMALLINT,\n",
        "    batear CHAR(1),\n",
        "    lanzar CHAR(1),\n",
        "    fechaDebut DATE,\n",
        "    fechaRetirada DATE\n",
        "  )\"\"\"\n",
        "equipo=\"\"\"\n",
        "CREATE TABLE IF NOT EXISTS equipo(\n",
        "    anyo SMALLINT,\n",
        "    liga CHAR(5),\n",
        "\tequipoID VARCHAR(30) PRIMARY key NOT NULL,    \n",
        "    equipoNombre VARCHAR(50),\n",
        "    estadio VARCHAR(60),\n",
        "    publicoEstadio INTEGER,\n",
        "    equipoDivision CHAR(10),\n",
        "    clasificacionFinal SMALLINT,\n",
        "    G SMALLINT,\n",
        "    Ghome SMALLINT,\n",
        "    W SMALLINT,\n",
        "    L SMALLINT,\n",
        "    DivWin CHAR(2),\n",
        "    WCWin CHAR(2),\n",
        "    LgWin CHAR(2),\n",
        "    WSWin CHAR(2),\n",
        "    R SMALLINT,\n",
        "    AB SMALLINT,\n",
        "    H SMALLINT,\n",
        "    B2 SMALLINT,\n",
        "    B3 SMALLINT,\n",
        "    HR SMALLINT,\n",
        "    BB SMALLINT,\n",
        "    SO SMALLINT,\n",
        "    SB SMALLINT,\n",
        "    CS SMALLINT,\n",
        "    HBP SMALLINT,\n",
        "    SF SMALLINT,\n",
        "    RA SMALLINT,\n",
        "    ER SMALLINT,\n",
        "    ERA SMALLINT,\n",
        "    CG SMALLINT,\n",
        "    SHO SMALLINT,\n",
        "    SV SMALLINT,\n",
        "    IPouts SMALLINT,\n",
        "    HA SMALLINT,\n",
        "    HRA SMALLINT,\n",
        "    BBA SMALLINT,\n",
        "    SOA SMALLINT,\n",
        "    E SMALLINT,\n",
        "    DP SMALLINT,\n",
        "    FP SMALLINT,\n",
        "    BPF SMALLINT,\n",
        "    PPF SMALLINT\n",
        "  )\"\"\"\n",
        "estadio = \"\"\"\n",
        " CREATE TABLE IF NOT EXISTS estadio(\n",
        "\testadioID VARCHAR(10) PRIMARY key NOT NULL,    \n",
        "    nombre VARCHAR(50),\n",
        "    alias VARCHAR(70),\n",
        "    ciudad VARCHAR(40),\n",
        "    estado VARCHAR(50),\n",
        "    pais VARCHAR(30)\n",
        "  )\"\"\"\n",
        "universidad = \"\"\"\n",
        " CREATE TABLE IF NOT EXISTS universidad(\n",
        "\tuniversidadID VARCHAR(20) PRIMARY key NOT NULL,    \n",
        "    nombre VARCHAR(70),\n",
        "    ciudad VARCHAR(70),\n",
        "    estado VARCHAR(30),\n",
        "    pais VARCHAR(30)\n",
        "  )\"\"\"\n",
        "cursor.execute(universidad)\n",
        "cursor.execute(estadio)\n",
        "cursor.execute(equipo)\n",
        "cursor.execute(jugador)\n"
      ]
    },
    {
      "cell_type": "code",
      "execution_count": 3,
      "metadata": {
        "id": "dQdzbP8htjD0"
      },
      "outputs": [],
      "source": [
        "batearEstadistica = \"\"\"\n",
        " CREATE TABLE IF NOT EXISTS batearEstadistica(\n",
        "\tjugador VARCHAR(30),\t\n",
        "\tanyo SMALLINT,\n",
        "\tequipo VARCHAR(30),\n",
        "    liga CHAR(5),\t    \n",
        "    G SMALLINT,\n",
        "    AB SMALLINT,\n",
        "    R SMALLINT,\n",
        "    H SMALLINT,\n",
        "    B2 SMALLINT,\n",
        "    B3 SMALLINT,\n",
        "    HR SMALLINT,\n",
        "    RBI SMALLINT,\n",
        "    SB SMALLINT,    \n",
        "    CS SMALLINT,\n",
        "    BB SMALLINT,\n",
        "    SO SMALLINT,\n",
        "    IBB SMALLINT,\n",
        "    HBP SMALLINT,    \n",
        "    SH SMALLINT,\n",
        "    SF smallint,\n",
        "    GIDP smallint,\n",
        "    foreign key (jugador) references jugador(jugadorID),\n",
        "    foreign key (equipo) references equipo(equipoID)\n",
        "  )\"\"\"\n",
        "lanzarEstadistica = \"\"\"\n",
        " CREATE TABLE IF NOT EXISTS lanzarEstadistica(\n",
        "\tjugador VARCHAR(30),\t\n",
        "\tanyo SMALLINT,\n",
        "\tequipo VARCHAR(30),\n",
        "    liga CHAR(5),\t    \n",
        "    W SMALLINT,\n",
        "    L SMALLINT,\n",
        "    G SMALLINT,\n",
        "    GS SMALLINT,\n",
        "    CG SMALLINT,\n",
        "    SHO SMALLINT,\n",
        "    SV SMALLINT,\n",
        "    IPouts SMALLINT,\n",
        "    H SMALLINT,    \n",
        "    ER SMALLINT,\n",
        "    HR SMALLINT,\n",
        "    BB SMALLINT,    \n",
        "    SO SMALLINT,\n",
        "    BAOpp float,\n",
        "    ERA SMALLINT,\n",
        "    IBB SMALLINT,\n",
        "    WP SMALLINT,\n",
        "    HBP SMALLINT,\n",
        "    BK SMALLINT,\n",
        "    BFP SMALLINT,\n",
        "    GF SMALLINT,\n",
        "    R SMALLINT,\n",
        "    SH SMALLINT,\n",
        "    SF SMALLINT,\n",
        "    GIDP SMALLINT,\n",
        "    foreign key (jugador) references jugador(jugadorID),\n",
        "    foreign key (equipo) references equipo(equipoID)\n",
        "  )\"\"\"\n",
        "campoEstadistica = \"\"\"\n",
        " CREATE TABLE IF NOT EXISTS campoEstadistica(\n",
        "\tjugador VARCHAR(30),\t\n",
        "\tanyo SMALLINT,\n",
        "\tequipo VARCHAR(30),\n",
        "    liga CHAR(5),\t\n",
        "    POS CHAR(5),    \n",
        "    G SMALLINT,\n",
        "    GS SMALLINT,\n",
        "    InnOuts SMALLINT,\n",
        "    PO SMALLINT,\n",
        "    A SMALLINT,\n",
        "    E SMALLINT,\n",
        "    DP SMALLINT,\n",
        "    PB SMALLINT,\n",
        "    WP SMALLINT,    \n",
        "    SB SMALLINT,\n",
        "    CS SMALLINT,\n",
        "    ZR SMALLINT,    \n",
        "    foreign key (jugador) references jugador(jugadorID),\n",
        "    foreign key (equipo) references equipo(equipoID)\n",
        "  )\"\"\"\n",
        "sueldo = \"\"\"\n",
        " CREATE TABLE IF NOT EXISTS sueldo(   \n",
        "    anyo SMALLINT,\n",
        "    equipo VARCHAR(30),\n",
        "    liga CHAR(5),\n",
        "    jugador VARCHAR(30),\n",
        "    sueldo INT,\n",
        "    foreign key (equipo) references equipo(equipoID),\n",
        "    foreign key (jugador) references jugador(jugadorID)\n",
        "  )\"\"\"\n",
        "jugadorPosicionCampo = \"\"\"\n",
        " CREATE TABLE IF NOT EXISTS jugadorPosicionCampo( \n",
        "    jugador VARCHAR(30),\n",
        "    anyo SMALLINT, \n",
        "    Glf SMALLINT,\n",
        "    Gcf SMALLINT, \n",
        "    Grf SMALLINT,\n",
        "    foreign key (jugador) references jugador(jugadorID)\n",
        "  )\"\"\"\n",
        "jugadorPremio = \"\"\"\n",
        " CREATE TABLE IF NOT EXISTS jugadorPremio(\n",
        "    jugador VARCHAR(30),\n",
        "    premio VARCHAR(50),\n",
        "    anyo SMALLINT, \n",
        "    liga CHAR(5),\n",
        "    foreign key (jugador) references jugador(jugadorID)\n",
        "  )\"\"\"\n",
        "premioVotacion = \"\"\"\n",
        " CREATE TABLE IF NOT EXISTS premioVotacion( \n",
        "    premio VARCHAR(50),\n",
        "    anyo SMALLINT, \n",
        "    liga CHAR(5),\n",
        "    jugador VARCHAR(30),\n",
        "    puntosGanados SMALLINT,\n",
        "    puntosPremio SMALLINT,\n",
        "    votosPrimerPuesto SMALLINT,\n",
        "    foreign key (jugador) references jugador(jugadorID)\n",
        "  )\"\"\"\n",
        "jugadorPosicionDetalle = \"\"\"\n",
        " CREATE TABLE IF NOT EXISTS jugadorPosicionDetalle(\n",
        "    anyo SMALLINT, \n",
        "    equipo VARCHAR(30),\n",
        "    liga CHAR(5),\n",
        "    jugador VARCHAR(30),\n",
        "    G_all SMALLINT,\n",
        "    GS SMALLINT,\n",
        "    G_batting SMALLINT,\n",
        "    G_defense SMALLINT,\n",
        "    G_p SMALLINT,\n",
        "    G_c SMALLINT,\n",
        "    G_1b SMALLINT,\n",
        "    G_2b SMALLINT, \n",
        "    G_3b SMALLINT, \n",
        "    G_ss SMALLINT, \n",
        "    G_lf SMALLINT, \n",
        "    G_cf SMALLINT, \n",
        "    G_rf SMALLINT, \n",
        "    G_of SMALLINT, \n",
        "    G_dh SMALLINT, \n",
        "    G_ph SMALLINT, \n",
        "    G_pr SMALLINT,\n",
        "    foreign key (equipo) references equipo(equipoID),\n",
        "    foreign key (jugador) references jugador(jugadorID)\n",
        "  )\"\"\"\n",
        "jugadorUniversidad = \"\"\"\n",
        " CREATE TABLE IF NOT EXISTS jugadorUniversidad(\n",
        "    jugador VARCHAR(30),\n",
        "    universidad VARCHAR(20),\n",
        "    anyo SMALLINT, \n",
        "    foreign key (jugador) references jugador(jugadorID),\n",
        "    foreign key (universidad) references universidad(universidadID)\n",
        "  )\"\"\"\n",
        "estadioPartidos = \"\"\"\n",
        " CREATE TABLE IF NOT EXISTS estadioPartidos(\n",
        "    anyo SMALLINT, \n",
        "    liga CHAR(5),\n",
        "    equipo VARCHAR(30),\n",
        "    estadio VARCHAR(10),\n",
        "    primerPartido VARCHAR(20),\n",
        "    ultimoPartido VARCHAR(20),\n",
        "    partidosJugados SMALLINT,\n",
        "    publico INT,\n",
        "    foreign key (equipo) references equipo(equipoID),\n",
        "    foreign key (estadio) references estadio(estadioID)\n",
        "  )\"\"\"\n",
        "cursor.execute(estadioPartidos)\n",
        "cursor.execute(jugadorUniversidad)\n",
        "cursor.execute(jugadorPosicionDetalle)\n",
        "cursor.execute(premioVotacion)\n",
        "cursor.execute(jugadorPremio)\n",
        "cursor.execute(jugadorPosicionCampo)\n",
        "cursor.execute(sueldo)\n",
        "cursor.execute(campoEstadistica)\n",
        "cursor.execute(lanzarEstadistica)\n",
        "cursor.execute(batearEstadistica)"
      ]
    },
    {
      "attachments": {},
      "cell_type": "markdown",
      "metadata": {
        "id": "v2-Bi55cfG7v"
      },
      "source": [
        "# 2. Inserción de datos"
      ]
    },
    {
      "cell_type": "code",
      "execution_count": 4,
      "metadata": {
        "id": "t7cLB8XAffTQ"
      },
      "outputs": [],
      "source": [
        "# TABLAS PRINCIPALES\n",
        "#*Tabla Jugador\n",
        "insert = \"INSERT INTO jugador VALUES (%s,%s,%s,%s,%s,%s,%s,%s,%s,%s,%s,%s,%s,%s,%s,%s,%s,%s,%s,%s,%s,%s)\"\n",
        "\n",
        "values1=(\"apashaml34\",\"Pascal\",\"Hamilton\",\"Pascal Hamilton\",\n",
        "        1934,2,5,\"USA\",\"AL\",\"Mobile\",2021,1,22,\n",
        "        \"USA\",\"GA\",\"Atlanta\",180,72,\"L\",\"R\",\n",
        "        \"09/04/1965\",\"11/10/1985\")\n",
        "\n",
        "values2=(\"jmerliee12\",\"James\",\"Lee\",\"Jamess Lee\",\n",
        "        1939,8,5,\"USA\",\"AL\",\"Mobile\",1984,8,16,\n",
        "        \"USA\",\"GA\",\"Atlanta\",190,75,\"R\",\"R\",\n",
        "        \"10/04/1962\",\"12/09/1971\")\n",
        "\n",
        "cursor.execute(insert,values1)\n",
        "cursor.execute(insert,values2)\n",
        "\n",
        "#* Tabla Equipo\n",
        "insert = \"INSERT INTO equipo VALUES (%s,%s,%s,%s,%s,%s,%s,%s,%s,%s,%s,%s,%s,%s,%s,%s,%s,%s,%s,%s,%s,%s,%s,%s,%s,%s,%s,%s,%s,%s,%s,%s,%s,%s,%s,%s,%s,%s,%s,%s,%s,%s,%s,%s)\"\n",
        "\n",
        "values1 = (1997,\"NL\",\"APO\",\"Melbourn Diamondbacks\",\"Chase Field\",\n",
        "                3198977,\"W\",1,162,81,98,64,\"Y\",\"N\",\"N\",\"N\",819,5508,1471,\n",
        "                283,41,165,643,1016,92,46,50,53,674,630,392,14,10,40,4340,1361,170,421,1303,89,116,985,111,111)\n",
        "values2 = (2002,\"NL\",\"ATT\",\"Atlanta Braves\",\"Turner Field\",\n",
        "                2020914,\"E\",5,161,81,68,93,\"N\",\"N\",\"N\",\"N\",649,5514,1404,\n",
        "                295,27,122,502,1240,75,34,59,52,779,725,451,1,9,39,4343,1414,177,547,1227,101,134,983,102,104)\n",
        "\n",
        "cursor.execute(insert, values1)\n",
        "cursor.execute(insert, values2)\n",
        "\n",
        "#* Tabla Estadio\n",
        "insert = \"INSERT INTO estadio VALUES (%s,%s,%s,%s,%s,%s)\"\n",
        "values1 = (\"PAL01\",\"Angel Stadium of Anaheim\",\"Edison Field; Anaheim Stadium\",\"Anaheim\",\"CA\",\"US\")\n",
        "values2 = (\"ATP02\",\"Turner Field\",\"\",\"Atlanta\",\"GA\",\"US\")\n",
        "\n",
        "cursor.execute(insert, values1)\n",
        "cursor.execute(insert, values2)\n",
        "\n",
        "#* Tabla Universidad\n",
        "insert = \"INSERT INTO universidad VALUES (%s,%s,%s,%s,%s)\"\n",
        "values1 = (\"chirstee\",\"Abilene Christian University\",\"Abilene\",\"TX\",\"USA\")\n",
        "values2 = (\"udelphi\",\"Adelphi University\",\"Garden City\",\"NY\",\"USA\")\n",
        "\n",
        "cursor.execute(insert, values1)\n",
        "cursor.execute(insert, values2)"
      ]
    },
    {
      "cell_type": "code",
      "execution_count": 5,
      "metadata": {},
      "outputs": [],
      "source": [
        "\n",
        "#*Tabla batearEstadistica \n",
        "insert=\"INSERT INTO batearEstadistica VALUES (%s,%s,%s,%s,%s,%s,%s,%s,%s,%s,%s,%s,%s,%s,%s,%s,%s,%s,%s,%s,%s)\"\n",
        "values1=(\"apashaml34\",1967,\"ATT\",\"NL\",158,603,117,168,23,1,44,127,21,3,76,96,15,1,0,8,14)\n",
        "values2=(\"apashaml34\",1979,\"APO\",\"NL\",155,600,113,184,37,3,39,109,17,6,63,97,19,0,0,6,11)\n",
        "\n",
        "cursor.execute(insert,values1)\n",
        "cursor.execute(insert,values2)\n",
        "\n",
        "#* Tabla campoEstadistica \n",
        "insert=\"INSERT INTO campoEstadistica VALUES (%s,%s,%s,%s,%s,%s,%s,%s,%s,%s,%s,%s,%s,%s,%s,%s,%s)\"\n",
        "values1=(\"apashaml34\",1966,\"APO\",\"NL\",\"OF\",158,157,4066,15,12,4,5,0,0,0,0,0)\n",
        "values2=(\"jmerliee12\",1968,\"APO\",\"NL\",\"OF\",151,143,3874,330,13,3,2,0,0,0,0,0)\n",
        "\n",
        "cursor.execute(insert,values1)\n",
        "cursor.execute(insert,values2)\n",
        "\n",
        "#* Tabla 6 lanzarEstadistica\n",
        "insert=\"INSERT INTO lanzarEstadistica VALUES (%s,%s,%s,%s,%s,%s,%s,%s,%s,%s,%s,%s,%s,%s,%s,%s,%s,%s,%s,%s,%s,%s,%s,%s,%s,%s,%s,%s,%s)\"\n",
        "values1=(\"jmerliee12\",2023,\"ATT\",\"NL\",2,3,8,8,\n",
        "            0,0,0,101,45,22,7,12,23,0.328,588,2,1,1,1,153,0,23,1,2,3)\n",
        "values2=(\"apashaml34\",2020,\"ATT\",\"NL\",4,0,\n",
        "            35,0,0,0,0,148,69,36,10,5,37,0.327,657,0,0,1,1,218,6,36,0,1,4)\n",
        "\n",
        "cursor.execute(insert, values1)\n",
        "cursor.execute(insert, values2)\n",
        "\n",
        "\n",
        "#* Tabla sueldo \n",
        "insert=\"INSERT INTO sueldo VALUES (%s,%s,%s,%s,%s)\"\n",
        "values1=(1985,\"ATT\",\"NL\",\"jmerliee12\",870000)\n",
        "values2=(1985,\"APO\",\"NL\",\"jmerliee12\",550000)\n",
        "\n",
        "cursor.execute(insert, values1)\n",
        "cursor.execute(insert, values2)\n",
        "\n",
        "#* Tabla jugadorPosicionCampo\n",
        "insert = \"INSERT INTO jugadorPosicionCampo VALUES (%s,%s,%s,%s,%s)\"\n",
        "values1 = (\"apashaml34\",1964,105,0,11)\n",
        "values2 = (\"apashaml34\",1975,26,0,105)\n",
        "\n",
        "cursor.execute(insert, values1)\n",
        "cursor.execute(insert, values2)\n",
        "\n",
        "#* Tabla jugadorPremio\n",
        "insert=\"INSERT INTO jugadorPremio VALUES (%s,%s,%s,%s)\"\n",
        "values1=(\"apashaml34\",\"TSN All-Star\",1956,\"ML\")\n",
        "values2=(\"apashaml34\",\"TSN Player of the Year\",1956,\"NL\")\n",
        "\n",
        "cursor.execute(insert, values1)\n",
        "cursor.execute(insert, values2)\n",
        "\n",
        "#* Tabla premioVotacion\n",
        "insert = \"INSERT INTO premioVotacion VALUES (%s,%s,%s,%s,%s,%s,%s)\"\n",
        "values1=(\"MVP\",1955,\"NL\",\"jmerliee12\",36,336,0)\n",
        "values2=(\"MVP\",1956,\"NL\",\"apashaml34\",146,336,0)\n",
        "cursor.execute(insert, values1)\n",
        "cursor.execute(insert, values2)\n",
        "\n",
        "\n",
        "#* Tabla jugadorPosicionDetalle\n",
        "insert=\"INSERT INTO jugadorPosicionDetalle VALUES (%s,%s,%s,%s,%s,%s,%s,%s,%s,%s,%s,%s,%s,%s,%s,%s,%s,%s,%s,%s,%s)\"\n",
        "values1=(1966,\"APO\",\"NL\",\"apashaml34\",158,157,158,158,0,0,0,2,0,0,0,5,158,158,0,1,0)\n",
        "values2=(1968,\"ATT\",\"NL\",\"apashaml34\",160,157,160,157,0,0,14,0,0,0,0,0,151,151,0,3,0)\n",
        "\n",
        "cursor.execute(insert,values1)\n",
        "cursor.execute(insert,values2)\n",
        "\n",
        "#* Tabla jugadorUniversidad\n",
        "insert=\"INSERT INTO jugadoruniversidad VALUES (%s,%s,%s)\"\n",
        "values1=(\"jmerliee12\",\"chirstee\",2000)\n",
        "values2=(\"apashaml34\",\"chirstee\",1997)\n",
        "\n",
        "cursor.execute(insert,values1)\n",
        "cursor.execute(insert,values2)\n",
        "\n",
        "#* Tabla estadioPartidos\n",
        "insert=\"INSERT INTO estadioPartidos VALUES (%s,%s,%s,%s,%s,%s,%s,%s)\"\n",
        "values1=(1966,\"NL\",\"APO\",\"PAL01\",\"12/04/1966\",\"12/09/1966\",82,1539796)\n",
        "values2=(1967,\"NL\",\"APO\",\"PAL01\",\"02/04/1967\",\"10/10/1967\",81,1379214)\n",
        "\n",
        "cursor.execute(insert,values1)\n",
        "cursor.execute(insert,values2)\n"
      ]
    },
    {
      "cell_type": "code",
      "execution_count": 6,
      "metadata": {
        "id": "crBHZiqW1gcE"
      },
      "outputs": [],
      "source": [
        "#Funcion para la insersión de datos \n",
        "import csv\n",
        "RUTA_LOCAL='/mnt/c/Users/santiagoc/Downloads/ficheros/' \n",
        "\n",
        "def funcion_de_inserción(ruta:str,\n",
        "                        nombre_tabla:str,\n",
        "                        numero_columnas:int):\n",
        "    \"\"\"Esta función accede al fichero correspondiente y hace la inserción de los registros en la base de datos\n",
        "    \n",
        "        Parámetros:\n",
        "            ruta (str): Ruta local de la carpeta con los ficheros\n",
        "            nombre_tabla (str): Nombre de la tabla en la base de datos para ese archivo\n",
        "            numero_columnas (int): Número de atributos de la tabla\n",
        "    \"\"\"\n",
        "    RUTA = f'{RUTA_LOCAL}{ruta}'\n",
        "    \n",
        "    with open(RUTA, newline='') as file:\n",
        "        reader = csv.DictReader(file, delimiter=';')\n",
        "        string_formart = f'{\"%s,\"*(numero_columnas-1) + \"%s\"}'\n",
        "        string = f'INSERT INTO {nombre_tabla} VALUES ({string_formart})'\n",
        "        values = []\n",
        "        for row in reader:\n",
        "            valores = tuple(row.values())\n",
        "            values.append(tuple(map(lambda x: None if x==\"\" else x, valores)))\n",
        "        cursor.executemany(string, values)"
      ]
    },
    {
      "cell_type": "code",
      "execution_count": 7,
      "metadata": {},
      "outputs": [],
      "source": [
        "#* Tablas iniciales sin llaves foraneas\n",
        "funcion_de_inserción('1-Jugador.csv', 'jugador', 22)\n",
        "funcion_de_inserción('5-Equipo.csv', 'equipo', 44)\n",
        "funcion_de_inserción('12-Universidad.csv', 'universidad', 5)\n",
        "funcion_de_inserción('10-Estadio.csv', 'estadio', 6) \n",
        "conexion1.commit()"
      ]
    },
    {
      "cell_type": "code",
      "execution_count": 8,
      "metadata": {},
      "outputs": [],
      "source": [
        "# Insertar de tablas de estadisticas\n",
        "#*  NOTA: estas tablas pueden tardar mas tiempo en insertar ya que tienen muchos registros\n",
        "# se recomienda ejecutar de a una tabla a la vez\n",
        "funcion_de_inserción('2-BatearEstadistica.csv', 'batearEstadistica', 21)\n",
        "funcion_de_inserción('3-LanzarEstadistica.csv', 'lanzarEstadistica', 29)\n",
        "funcion_de_inserción('4-CampoEstadistica.csv', 'campoEstadistica', 17)\n",
        "conexion1.commit()"
      ]
    },
    {
      "cell_type": "code",
      "execution_count": 9,
      "metadata": {},
      "outputs": [],
      "source": [
        "funcion_de_inserción('6-Sueldo.csv', 'sueldo', 5)\n",
        "funcion_de_inserción('7-JugadorPosicionCampo.csv', 'jugadorPosicionCampo', 5)\n",
        "funcion_de_inserción('8-JugadorPremio.csv', 'jugadorPremio', 4)\n",
        "funcion_de_inserción('9-PremioVotacion.csv', 'premioVotacion', 7)\n",
        "funcion_de_inserción('11-JugadorPosicionDetalle.csv', 'jugadorPosicionDetalle', 21)\n",
        "funcion_de_inserción('13-JugadorUniversidad.csv', 'jugadorUniversidad', 3)\n",
        "funcion_de_inserción('14-EstadioPartidos.csv', 'estadioPartidos', 8)\n",
        "conexion1.commit()"
      ]
    },
    {
      "attachments": {},
      "cell_type": "markdown",
      "metadata": {
        "id": "MK8u4tXV7yCk"
      },
      "source": [
        "# 3. Consultas a base de datos\n",
        "\n",
        "## 3.1 Consulas simples\n",
        "\n",
        "#### Mostrar los primeros 10 registros de la tabla equipos"
      ]
    },
    {
      "cell_type": "code",
      "execution_count": 10,
      "metadata": {
        "id": "f3bKEOgDHsV4"
      },
      "outputs": [
        {
          "name": "stdout",
          "output_type": "stream",
          "text": [
            "('APO', 'Melbourn Diamondbacks', 1997, 'NL   ', 'Chase Field')\n",
            "('ATT', 'Atlanta Braves', 2002, 'NL   ', 'Turner Field')\n",
            "('ALT', 'Altoona Mountain City', 1884, 'UA   ', None)\n",
            "('ANA', 'Anaheim Angels', 2004, 'AL   ', None)\n",
            "('ARI', 'Arizona Diamondbacks', 2021, 'NL   ', 'Chase Field')\n",
            "('ATL', 'Atlanta Braves', 2021, 'NL   ', 'SunTrust Park')\n",
            "('BAL', 'Baltimore Orioles', 2021, 'AL   ', 'Oriole Park at Camden Yards')\n",
            "('BFN', 'Buffalo Bisons', 1885, 'NL   ', 'Olympic Park I')\n",
            "('BFP', 'Buffalo Bisons', 1890, 'PL   ', None)\n",
            "('BL1', 'Baltimore Canaries', 1874, 'NA   ', 'Newington Park')\n"
          ]
        }
      ],
      "source": [
        "consulta=\"SELECT equipoid, equiponombre, anyo, liga, estadio FROM equipo LIMIT 10\"\n",
        "cursor.execute(consulta)\n",
        "datos=cursor.fetchall()\n",
        "for equipo in datos:\n",
        "    print(equipo)"
      ]
    },
    {
      "attachments": {},
      "cell_type": "markdown",
      "metadata": {
        "id": "vLWB07ILSldO"
      },
      "source": [
        "#### Seleccionar los 10 primeros estadios insertados de un estado en especifico\n",
        "*Se debe ingresar el indicativo del estado*\n"
      ]
    },
    {
      "cell_type": "code",
      "execution_count": 11,
      "metadata": {
        "id": "3_RfnklGShlu"
      },
      "outputs": [
        {
          "name": "stdout",
          "output_type": "stream",
          "text": [
            "('Riverside Park',)\n",
            "('Riverside Grounds',)\n",
            "('Olympic Park I',)\n",
            "('Olympic Park II',)\n",
            "('International Fair Association Grounds',)\n",
            "('Maple Avenue Driving Park',)\n",
            "('Windsor Beach',)\n",
            "('Long Island Grounds',)\n",
            "('Union Grounds',)\n",
            "('Capitoline Grounds',)\n"
          ]
        }
      ],
      "source": [
        "#* cambiar este dato por el estado a consultar\n",
        "ESTADO = 'NY' \n",
        "\n",
        "query = f\"SELECT nombre FROM estadio WHERE estado='{ESTADO}' AND pais = 'US' LIMIT 10\"\n",
        "cursor.execute(query)\n",
        "datos=cursor.fetchall()\n",
        "\n",
        "for estadio in datos:\n",
        "    print(estadio)"
      ]
    },
    {
      "attachments": {},
      "cell_type": "markdown",
      "metadata": {},
      "source": [
        "#### Seleccionar todos los premios ganados por un jugador\n",
        "*Se debe ingresar el ID del jugador*"
      ]
    },
    {
      "cell_type": "code",
      "execution_count": 12,
      "metadata": {},
      "outputs": [
        {
          "name": "stdout",
          "output_type": "stream",
          "text": [
            "('youngcy01', 'Pitching Triple Crown', 1901, 'AL   ')\n",
            "('youngcy01', 'Baseball Magazine All-Star', 1908, 'AL   ')\n",
            "('youngcy01', 'Baseball Magazine All-Star', 1908, 'ML   ')\n"
          ]
        }
      ],
      "source": [
        "#* cambiar este dato por el jugador a consultar\n",
        "JUGADOR = 'youngcy01' \n",
        "\n",
        "query = f\"SELECT * FROM jugadorpremio WHERE jugador='{JUGADOR}'\"\n",
        "cursor.execute(query)\n",
        "datos=cursor.fetchall()\n",
        "\n",
        "for premio in datos:\n",
        "    print(premio)"
      ]
    },
    {
      "attachments": {},
      "cell_type": "markdown",
      "metadata": {
        "id": "BCWCliGZTRjA"
      },
      "source": [
        "## 3.2 Consultas con JOIN"
      ]
    },
    {
      "attachments": {},
      "cell_type": "markdown",
      "metadata": {
        "id": "O7uitFA8TtEV"
      },
      "source": [
        "#### Universidades en las cuales ha estado presente un jugador y su año correspondiente"
      ]
    },
    {
      "cell_type": "code",
      "execution_count": 13,
      "metadata": {
        "id": "-c44S2naTv7C"
      },
      "outputs": [
        {
          "name": "stdout",
          "output_type": "stream",
          "text": [
            "('jmerliee12', 'chirstee', 2000)\n",
            "('apashaml34', 'chirstee', 1997)\n",
            "('aardsda01', 'pennst', 2001)\n",
            "('aardsda01', 'rice', 2002)\n",
            "('aardsda01', 'rice', 2003)\n",
            "('abadan01', 'gamiddl', 1992)\n",
            "('abadan01', 'gamiddl', 1993)\n",
            "('abbeybe01', 'vermont', 1889)\n",
            "('abbeybe01', 'vermont', 1890)\n",
            "('abbeybe01', 'vermont', 1891)\n",
            "('abbeybe01', 'vermont', 1892)\n",
            "('abbotje01', 'kentucky', 1991)\n",
            "('abbotje01', 'kentucky', 1992)\n",
            "('abbotje01', 'kentucky', 1994)\n",
            "('abbotji01', 'michigan', 1986)\n"
          ]
        }
      ],
      "source": [
        "query=\"\"\"\n",
        "SELECT \n",
        "jugadorid, universidad, anyo\n",
        "FROM jugador \n",
        "JOIN jugadoruniversidad ON jugador.jugadorid=jugadoruniversidad.jugador\n",
        "LIMIT 15\n",
        "\"\"\"\n",
        "cursor.execute(query)\n",
        "datos=cursor.fetchall()\n",
        "\n",
        "for data in datos:\n",
        "    print(data)"
      ]
    },
    {
      "attachments": {},
      "cell_type": "markdown",
      "metadata": {
        "id": "b_Lcv8aCTwRA"
      },
      "source": [
        "#### Esta consulta devuelve la información del estadio que más publico ha albergado para un equipo en un lapso de tiempo\n"
      ]
    },
    {
      "cell_type": "code",
      "execution_count": 14,
      "metadata": {
        "id": "06ixYA6JTxTl"
      },
      "outputs": [
        {
          "name": "stdout",
          "output_type": "stream",
          "text": [
            "EstadioID - Nombre - año - publico - primerPartido - ultimoPartido\n",
            "('DEN01', 'Mile High Stadium', 1993, 4483203, '1993-04-09', '1993-09-26')\n"
          ]
        }
      ],
      "source": [
        "query=\"\"\"\n",
        "select estadioid, nombre, \n",
        "estadiopartidos.anyo, estadiopartidos.publico,\n",
        "estadiopartidos.primerpartido, estadiopartidos.ultimopartido\n",
        "from estadio\n",
        "join estadiopartidos on estadiopartidos.estadio = estadio.estadioid\n",
        "where publico = (select MAX(publico) from estadiopartidos)\n",
        "\"\"\"\n",
        "\n",
        "cursor.execute(query)\n",
        "datos=cursor.fetchall()\n",
        "\n",
        "print('EstadioID', 'Nombre', 'año', 'publico', 'primerPartido', 'ultimoPartido', sep=' - ')\n",
        "for data in datos:\n",
        "    print(data)"
      ]
    },
    {
      "attachments": {},
      "cell_type": "markdown",
      "metadata": {
        "id": "zsaqwpDkT223"
      },
      "source": [
        "## 3.3 Consultas con función de agregación "
      ]
    },
    {
      "attachments": {},
      "cell_type": "markdown",
      "metadata": {
        "id": "bM2pXjbvhUSR"
      },
      "source": [
        "#### En esta consulta se utiliza la clausula group by y sum para retornar la suma de todos los sueldos de los jugadores del equipo en un año en especifico."
      ]
    },
    {
      "cell_type": "code",
      "execution_count": 15,
      "metadata": {
        "id": "EU4-jQyQhWna"
      },
      "outputs": [
        {
          "name": "stdout",
          "output_type": "stream",
          "text": [
            "('TOR', 1995, 50590000)\n",
            "('SEA', 1995, 36481311)\n",
            "('CHA', 1995, 46961282)\n",
            "('CLE', 1995, 37937835)\n",
            "('SDN', 1995, 26382334)\n",
            "('COL', 1995, 34154717)\n",
            "('BOS', 1995, 32455518)\n",
            "('PHI', 1995, 30555945)\n",
            "('CIN', 1995, 43144670)\n",
            "('MIN', 1995, 25410500)\n",
            "('NYN', 1995, 27674992)\n",
            "('CHN', 1995, 29505834)\n",
            "('SLN', 1995, 37101000)\n",
            "('LAN', 1995, 39273201)\n",
            "('DET', 1995, 37044168)\n",
            "('OAK', 1995, 37739225)\n",
            "('FLO', 1995, 24515781)\n",
            "('KCA', 1995, 29532834)\n",
            "('NYA', 1995, 48874851)\n",
            "('CAL', 1995, 31223171)\n",
            "('HOU', 1995, 34169834)\n",
            "('MON', 1995, 12364000)\n",
            "('ML4', 1995, 17798825)\n",
            "('BAL', 1995, 43942521)\n",
            "('ATL', 1995, 47235445)\n",
            "('SFN', 1995, 36462777)\n",
            "('TEX', 1995, 34581451)\n",
            "('PIT', 1995, 18355345)\n"
          ]
        }
      ],
      "source": [
        "# este parametro se puede cambiar\n",
        "anyo=1995\n",
        "\n",
        "query=f\"\"\"\n",
        "select equipo, anyo, sum(sueldo) from sueldo \n",
        "where anyo={anyo}\n",
        "group by equipo, anyo ;\n",
        "\"\"\"\n",
        "\n",
        "cursor.execute(query)\n",
        "datos=cursor.fetchall()\n",
        "for data in datos:\n",
        "    print(data)"
      ]
    },
    {
      "attachments": {},
      "cell_type": "markdown",
      "metadata": {
        "id": "ANOfRC4mhV5t"
      },
      "source": [
        "#### mostrar el promedio de los sueldos que ha tenido un jugador en todos los equipos en los que ha participado"
      ]
    },
    {
      "cell_type": "code",
      "execution_count": 17,
      "metadata": {
        "id": "j7LW3glahXHR"
      },
      "outputs": [
        {
          "name": "stdout",
          "output_type": "stream",
          "text": [
            "jugador - equipo - promedio sueldo\n",
            "('aardsda01', 'SFN', Decimal('300000.000000000000'))\n",
            "('aardsda01', 'CHA', Decimal('387500.000000000000'))\n",
            "('aardsda01', 'BOS', Decimal('403250.000000000000'))\n",
            "('aardsda01', 'SEA', Decimal('2556333.333333333333'))\n",
            "('aardsda01', 'NYA', Decimal('500000.000000000000'))\n",
            "('aasedo01', 'BAL', Decimal('633333.333333333333'))\n",
            "('aasedo01', 'NYN', Decimal('400000.000000000000'))\n",
            "('abadan01', 'CIN', Decimal('327000.000000000000'))\n",
            "('abadfe01', 'HOU', Decimal('451500.000000000000'))\n",
            "('abadfe01', 'OAK', Decimal('806700.000000000000'))\n"
          ]
        }
      ],
      "source": [
        "query=f\"\"\"\n",
        "select jugador, equipo, AVG(sueldo) \n",
        "from sueldo\n",
        "group by jugador, equipo\n",
        "order by jugador\n",
        "LIMIT 10\n",
        "\"\"\"\n",
        "cursor.execute(query)\n",
        "datos=cursor.fetchall()\n",
        "print('jugador', 'equipo', 'promedio sueldo', sep=' - ')\n",
        "for data in datos:\n",
        "    print(data)"
      ]
    },
    {
      "attachments": {},
      "cell_type": "markdown",
      "metadata": {
        "id": "i6zwFpqbg_eZ"
      },
      "source": [
        "## 3.4  Subconsultas"
      ]
    },
    {
      "attachments": {},
      "cell_type": "markdown",
      "metadata": {},
      "source": [
        "#### Esta subconsulta devuelve todos los equipos en los que han estado los jugadores, adicional a eso se puede filtrar por un jugador en especifico si se desea."
      ]
    },
    {
      "cell_type": "code",
      "execution_count": 70,
      "metadata": {},
      "outputs": [
        {
          "name": "stdout",
          "output_type": "stream",
          "text": [
            "('abbated01', 'Edward James', 'BSN')\n",
            "('abbated01', 'Edward James', 'PHI')\n",
            "('abbated01', 'Edward James', 'PIT')\n"
          ]
        }
      ],
      "source": [
        "# ingresar el id del jugador si se desea consultar individual EJ: 'abbated01'\n",
        "jugadorID=None\n",
        "\n",
        "query = f\"\"\"\n",
        "select distinct t.jugadorid, t.nombredeportivo, t.equipo\n",
        "from (\n",
        "\tselect \n",
        "\t\tjugador.jugadorid, jugador.nombredeportivo, \n",
        "\t\tjugadorposiciondetalle.equipo\n",
        "\tfrom jugador\n",
        "\tjoin jugadorposiciondetalle on jugadorposiciondetalle.jugador = jugador.jugadorid\n",
        "\t{f\"where jugador.jugadorid='{jugadorID}'\" if jugadorID else ''}\n",
        ") as t order by t.jugadorid\n",
        "\"\"\"\n",
        "\n",
        "cursor.execute(query)\n",
        "datos=cursor.fetchall()\n",
        "\n",
        "for data in datos:\n",
        "    print(data)"
      ]
    },
    {
      "attachments": {},
      "cell_type": "markdown",
      "metadata": {},
      "source": [
        "#### Esta subconsulta devuelve la información de los estadios en el que más partidos se han realizado"
      ]
    },
    {
      "cell_type": "code",
      "execution_count": 96,
      "metadata": {},
      "outputs": [
        {
          "name": "stdout",
          "output_type": "stream",
          "text": [
            "estadioID - nombre - año - partido jugados\n",
            "('PIT05', 'Exposition Park III', 1892, 89)\n",
            "('CHI08', 'West Side Grounds', 1898, 89)\n",
            "('CIN05', 'League Park II', 1898, 89)\n"
          ]
        }
      ],
      "source": [
        "\n",
        "query = \"\"\"\n",
        "SELECT estadio.estadioid, estadio.nombre, anyo, partidosjugados\n",
        "FROM estadiopartidos \n",
        "JOIN estadio on estadio.estadioid = estadiopartidos.estadio\n",
        "WHERE partidosjugados = (select MAX(partidosjugados) from estadiopartidos);\n",
        "\"\"\"\n",
        "\n",
        "cursor.execute(query)\n",
        "datos=cursor.fetchall()\n",
        "\n",
        "print('estadioID', 'nombre', 'año', 'partido jugados', sep=' - ')\n",
        "for data in datos:\n",
        "    print(data)"
      ]
    },
    {
      "attachments": {},
      "cell_type": "markdown",
      "metadata": {},
      "source": [
        "## 4. Actualizaciones a base de datos\n",
        "#### Actualizaciones basicas de registros"
      ]
    },
    {
      "cell_type": "code",
      "execution_count": 18,
      "metadata": {},
      "outputs": [
        {
          "name": "stdout",
          "output_type": "stream",
          "text": [
            "Actualización exitosa del estadio\n",
            "Actualización exitosa de las universidades\n"
          ]
        }
      ],
      "source": [
        "\n",
        "# Actualización del alias de un estadio\n",
        "update = \"\"\"UPDATE estadio SET ciudad = 'Valencia', alias = 'Stadium Columbia' WHERE estadioid = 'ALT01'\"\"\"\n",
        "\n",
        "cursor.execute(update)\n",
        "print('Actualización exitosa del estadio')\n",
        "\n",
        "# Actualizar las universidades que pertenezcan al estado de OH ya que este se fucionó con CA \n",
        "update = \"\"\"UPDATE universidad SET estado = 'CA' WHERE estado = 'OH'\"\"\"\n",
        "\n",
        "cursor.execute(update)\n",
        "print('Actualización exitosa de las universidades')"
      ]
    },
    {
      "attachments": {},
      "cell_type": "markdown",
      "metadata": {},
      "source": [
        "#### Este código sql cambia el nombre de una columna de la tabla"
      ]
    },
    {
      "cell_type": "code",
      "execution_count": 19,
      "metadata": {},
      "outputs": [
        {
          "name": "stdout",
          "output_type": "stream",
          "text": [
            "Actualización exitosa de la columna de la tabla batearestadistica\n"
          ]
        }
      ],
      "source": [
        "update = \"\"\"ALTER TABLE batearestadistica RENAME COLUMN G TO num_golpes;\"\"\"\n",
        "\n",
        "cursor.execute(update)\n",
        "print('Actualización exitosa de la columna de la tabla batearestadistica')"
      ]
    },
    {
      "attachments": {},
      "cell_type": "markdown",
      "metadata": {},
      "source": [
        "#### Cambiar el tipo de dato de una columna de la tabla"
      ]
    },
    {
      "cell_type": "code",
      "execution_count": 20,
      "metadata": {},
      "outputs": [
        {
          "name": "stdout",
          "output_type": "stream",
          "text": [
            "Actualización exitosa de la tabla sueldo\n"
          ]
        }
      ],
      "source": [
        "# ALTERAR UN TIPO DE DATO DE UNA TABLA\n",
        "update = \"\"\"ALTER TABLE sueldo ALTER COLUMN liga SET DATA TYPE VARCHAR(2);\"\"\"\n",
        "\n",
        "cursor.execute(update)\n",
        "print('Actualización exitosa de la tabla sueldo')"
      ]
    },
    {
      "attachments": {},
      "cell_type": "markdown",
      "metadata": {},
      "source": [
        "## 5. Borrados a base de datos\n",
        "\n",
        "#### Borrar todas las estadisticas de bateo de un jugador en especifico"
      ]
    },
    {
      "cell_type": "code",
      "execution_count": 27,
      "metadata": {},
      "outputs": [
        {
          "name": "stdout",
          "output_type": "stream",
          "text": [
            "Borrado exitoso de las estadisticas de campo del jugador oberkke01\n"
          ]
        }
      ],
      "source": [
        "jugador ='oberkke01'\n",
        "\n",
        "delete = f\"\"\"delete from campoestadistica where jugador = '{jugador}'\"\"\"\n",
        "\n",
        "cursor.execute(delete)\n",
        "print(f'Borrado exitoso de las estadisticas de campo del jugador {jugador}')"
      ]
    },
    {
      "attachments": {},
      "cell_type": "markdown",
      "metadata": {},
      "source": [
        "#### Borrado de una columna de la tabla de estadisticas de bateo"
      ]
    },
    {
      "cell_type": "code",
      "execution_count": 22,
      "metadata": {},
      "outputs": [
        {
          "name": "stdout",
          "output_type": "stream",
          "text": [
            "Borrado exitoso de la columna sh de la tabla batearestadistica\n"
          ]
        }
      ],
      "source": [
        "delete = f\"\"\"ALTER TABLE batearestadistica DROP COLUMN sh\"\"\"\n",
        "\n",
        "cursor.execute(delete)\n",
        "print(f'Borrado exitoso de la columna sh de la tabla batearestadistica')"
      ]
    },
    {
      "attachments": {},
      "cell_type": "markdown",
      "metadata": {},
      "source": [
        "#### Eliminar la tabla lanzarestadistica"
      ]
    },
    {
      "cell_type": "code",
      "execution_count": 28,
      "metadata": {},
      "outputs": [
        {
          "name": "stdout",
          "output_type": "stream",
          "text": [
            "Borrado exitoso de la tabla lanzarestadistica\n"
          ]
        }
      ],
      "source": [
        "delete = f\"\"\"DROP TABLE lanzarestadistica\"\"\"\n",
        "\n",
        "cursor.execute(delete)\n",
        "print(f'Borrado exitoso de la tabla lanzarestadistica')"
      ]
    },
    {
      "attachments": {},
      "cell_type": "markdown",
      "metadata": {},
      "source": [
        "## CONCLUSIONES\n",
        "\n",
        "1. En base a la realización de este ejercicio, se pudó comprobar que el rol de un analista de datos es muy importante en una organización, ya que es esté quien con sus conocimientos y en base a los datos proporcionados, puede mostrar analísis detallados sobre la compañia, que le ayudarán a la organización a administrar de mejor manera todos sus recursos.\n",
        "\n",
        "2. Es muy común encontrar en la mayoría de bases de datos *data sucia*, mucha de esta se debe a errores humanos, cambios de requisitos entre otros. De este ejercicio identificamos que un buen diseño de la base de datos (tablas, tipos de datos, normalización, etc ...) son esenciales para disminuir la tasa de inserción de *data sucia* que no brinda información veraz sobre el proceso que esta representa."
      ]
    }
  ],
  "metadata": {
    "colab": {
      "provenance": []
    },
    "kernelspec": {
      "display_name": "Python 3",
      "language": "python",
      "name": "python3"
    },
    "language_info": {
      "codemirror_mode": {
        "name": "ipython",
        "version": 3
      },
      "file_extension": ".py",
      "mimetype": "text/x-python",
      "name": "python",
      "nbconvert_exporter": "python",
      "pygments_lexer": "ipython3",
      "version": "3.8.10 (default, Nov 14 2022, 12:59:47) \n[GCC 9.4.0]"
    },
    "vscode": {
      "interpreter": {
        "hash": "31f2aee4e71d21fbe5cf8b01ff0e069b9275f58929596ceb00d14d90e3e16cd6"
      }
    }
  },
  "nbformat": 4,
  "nbformat_minor": 0
}
